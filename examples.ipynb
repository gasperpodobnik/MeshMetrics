{
 "cells": [
  {
   "cell_type": "code",
   "execution_count": null,
   "metadata": {},
   "outputs": [],
   "source": [
    "from pathlib import Path\n",
    "import numpy as np\n",
    "import SimpleITK as sitk\n",
    "from MeshMetrics.utils import (\n",
    "    create_synthetic_examples_2d,\n",
    "    create_synthetic_examples_3d,\n",
    "    vtk_write_polydata,\n",
    "    sitk2np,\n",
    "    vtk_read_polydata\n",
    ")\n",
    "from MeshMetrics import DistanceMetrics\n",
    "# set data directory\n",
    "data_dir = Path('data')"
   ]
  },
  {
   "cell_type": "markdown",
   "metadata": {},
   "source": [
    "Read or create you own synthetic examples (a few are already provided in the examples folder)"
   ]
  },
  {
   "cell_type": "code",
   "execution_count": 2,
   "metadata": {},
   "outputs": [],
   "source": [
    "create_data = False\n",
    "\n",
    "# you can change the NSD and BIoU tau parameter here\n",
    "tau = 2.0\n",
    "percentile = 95\n",
    "if create_data:\n",
    "    # you can change the radii of the circles/spheres here\n",
    "    r1, r2 = 25, 40\n",
    "    spacing2d = (0.2, 0.2)\n",
    "    spacing3d = (1.0, 1.0, 1.0)\n",
    "    \n",
    "    # 2D: Create synthetic circles with predefined radii\n",
    "    ref2d_vtk, pred2d_vtk, ref2d_sitk, pred2d_sitk = create_synthetic_examples_2d(r1=r1, r2=r2, spacing=spacing2d)\n",
    "    data_dir.mkdir(exist_ok=True)\n",
    "    vtk_write_polydata(ref2d_vtk, data_dir / \"example_2d_ref_mesh.obj\")\n",
    "    vtk_write_polydata(pred2d_vtk, data_dir / \"example_2d_pred_mesh.obj\")\n",
    "    sitk.WriteImage(ref2d_sitk, data_dir / \"example_2d_ref_mask.nii.gz\")\n",
    "    sitk.WriteImage(pred2d_sitk, data_dir / \"example_2d_pred_mask.nii.gz\")\n",
    "    \n",
    "    # 3D: Create synthetic spheres with predefined radii\n",
    "    ref3d_vtk, pred3d_vtk, ref3d_sitk, pred3d_sitk = create_synthetic_examples_3d(r1=r1, r2=r2, spacing=spacing3d)\n",
    "    data_dir.mkdir(exist_ok=True)\n",
    "    vtk_write_polydata(ref3d_vtk, data_dir / \"example_3d_ref_mesh.obj\")\n",
    "    vtk_write_polydata(pred3d_vtk, data_dir / \"example_3d_pred_mesh.obj\")\n",
    "    sitk.WriteImage(ref3d_sitk, data_dir / \"example_3d_ref_mask.nii.gz\")\n",
    "    sitk.WriteImage(pred3d_sitk, data_dir / \"example_3d_pred_mask.nii.gz\")\n",
    "else:\n",
    "    # do not change the radii of the circles/spheres here\n",
    "    r1, r2 = 25, 40\n",
    "    spacing2d = (0.2, 0.2)\n",
    "    spacing3d = (1.0, 1.0, 1.0)\n",
    "    \n",
    "    # load 2D data\n",
    "    ref2d_sitk = sitk.ReadImage(data_dir / \"example_2d_ref_mask.nii.gz\")\n",
    "    pred2d_sitk = sitk.ReadImage(data_dir / \"example_2d_pred_mask.nii.gz\")\n",
    "    ref2d_vtk = vtk_read_polydata(data_dir / \"example_2d_ref_mesh.obj\")\n",
    "    pred2d_vtk = vtk_read_polydata(data_dir / \"example_2d_pred_mesh.obj\")\n",
    "    \n",
    "    # load 3D data\n",
    "    ref3d_sitk = sitk.ReadImage(data_dir / \"example_3d_ref_mask.nii.gz\")\n",
    "    pred3d_sitk = sitk.ReadImage(data_dir / \"example_3d_pred_mask.nii.gz\")\n",
    "    ref3d_vtk = vtk_read_polydata(data_dir / \"example_3d_ref_mesh.obj\")\n",
    "    pred3d_vtk = vtk_read_polydata(data_dir / \"example_3d_pred_mesh.obj\")"
   ]
  },
  {
   "cell_type": "code",
   "execution_count": 3,
   "metadata": {},
   "outputs": [
    {
     "name": "stdout",
     "output_type": "stream",
     "text": [
      "\n",
      "Ideally, we would observe the following:\n",
      "- HD, HD_p, MASD, and ASSD should have a value of 15 mm (|r1 - r2|), \n",
      "  as all points on the two concentric spheres (in 3D) or circles (in 2D) are equidistant.\n",
      "- NSD (τ = 2.0 mm) should be 0%, as both surfaces are more than the tolerance `τ` apart.\n",
      "- BIoU (τ = 2.0 mm) should be 0.00% in 3D and 0.00% in 2D.\n",
      "\n",
      "Realistically, image grids provide a discretized representation of smooth spheres or circles, \n",
      "so some deviation from the ideal values is expected. This is especially true because the grid spacing \n",
      "used is 1.0 mm, which introduces significant discretization errors on curved surfaces like those in our examples.\n",
      "This is improved by using original meshes, which provide a more accurate representation of the input geometry.\n",
      "\n"
     ]
    }
   ],
   "source": [
    "# no need to read the code below, just read the output\n",
    "dist_scores = abs(r1-r2)\n",
    "nsd_perc = 100 if abs(r1-r2) <= tau else 0\n",
    "nsd_more_less = \"less\" if nsd_perc == 100 else \"more\"\n",
    "r_max = max(r1, r2)\n",
    "r_min = min(r1, r2)\n",
    "\n",
    "intersec_3d = 4/3*np.pi*max((r_min**3 - (r_max-tau)**3), 0)\n",
    "union_3d = 4/3*np.pi*(r_max**3 - max(r_max-tau, r_min)**3 + r_min**3 - max(r_min-tau, 0)**3)\n",
    "biou_perc_3d = intersec_3d / union_3d*100\n",
    "\n",
    "intersec_2d = np.pi*max((r_min**2 - (r_max-tau)**2), 0)\n",
    "union_2d = np.pi*(r_max**2 - max(r_max-tau, r_min)**2 + r_min**2 - max(r_min-tau, 0)**2)\n",
    "biou_perc_2d = intersec_2d / union_2d*100\n",
    "\n",
    "print(f\"\"\"\n",
    "Ideally, we would observe the following:\n",
    "- HD, HD_p, MASD, and ASSD should have a value of {dist_scores} mm (|r1 - r2|), \n",
    "  as all points on the two concentric spheres (in 3D) or circles (in 2D) are equidistant.\n",
    "- NSD (τ = {tau} mm) should be {nsd_perc}%, as both surfaces are {nsd_more_less} than the tolerance `τ` apart.\n",
    "- BIoU (τ = {tau} mm) should be {biou_perc_3d:.2f}% in 3D and {biou_perc_2d:.2f}% in 2D.\n",
    "\n",
    "Realistically, image grids provide a discretized representation of smooth spheres or circles, \n",
    "so some deviation from the ideal values is expected. This is especially true because the grid spacing \n",
    "used is 1.0 mm, which introduces significant discretization errors on curved surfaces like those in our examples.\n",
    "This is improved by using original meshes, which provide a more accurate representation of the input geometry.\n",
    "\"\"\")"
   ]
  },
  {
   "cell_type": "code",
   "execution_count": 4,
   "metadata": {},
   "outputs": [],
   "source": [
    "# initialize the DistanceMetrics class\n",
    "dist_metrics = DistanceMetrics()"
   ]
  },
  {
   "cell_type": "markdown",
   "metadata": {},
   "source": [
    "# 3D examples"
   ]
  },
  {
   "cell_type": "markdown",
   "metadata": {},
   "source": [
    "## Calculate metrics using `SimpleITK.Image` masks"
   ]
  },
  {
   "cell_type": "code",
   "execution_count": 5,
   "metadata": {},
   "outputs": [
    {
     "data": {
      "text/plain": [
       "((90, 90, 90), (1.0, 1.0, 1.0))"
      ]
     },
     "execution_count": 5,
     "metadata": {},
     "output_type": "execute_result"
    }
   ],
   "source": [
    "# print some metadata\n",
    "ref3d_sitk.GetSize(), ref3d_sitk.GetSpacing()"
   ]
  },
  {
   "cell_type": "code",
   "execution_count": 6,
   "metadata": {},
   "outputs": [
    {
     "name": "stdout",
     "output_type": "stream",
     "text": [
      "{'HD_100': 15.107025591499546, 'HD_95': 15.0, 'MASD': 14.386058222743, 'ASSD': 14.40236798890874, 'NSD_2.0': 0.0, 'BIoU_2.0': 0.0}\n"
     ]
    }
   ],
   "source": [
    "# note that spacing is automatically inferred from the sitk.Image object\n",
    "dist_metrics.set_input(ref=ref3d_sitk, pred=pred3d_sitk)\n",
    "# run calculations\n",
    "# Hausdorff distance (HD), by default, HD percentile is set to 100 (equivalent to HD)\n",
    "print({\n",
    "    \"HD_100\": dist_metrics.hd(),\n",
    "    f\"HD_{percentile}\": dist_metrics.hd(percentile=percentile),\n",
    "    \"MASD\": dist_metrics.masd(),\n",
    "    \"ASSD\": dist_metrics.assd(),\n",
    "    f\"NSD_{tau}\": dist_metrics.nsd(tau=tau),\n",
    "    f\"BIoU_{tau}\": dist_metrics.biou(tau=tau)\n",
    "})"
   ]
  },
  {
   "cell_type": "markdown",
   "metadata": {},
   "source": [
    "## Calculate metrics using `numpy.ndarray` masks"
   ]
  },
  {
   "cell_type": "code",
   "execution_count": 7,
   "metadata": {},
   "outputs": [
    {
     "data": {
      "text/plain": [
       "((90, 90, 90), (90, 90, 90), (1.0, 1.0, 1.0))"
      ]
     },
     "execution_count": 7,
     "metadata": {},
     "output_type": "execute_result"
    }
   ],
   "source": [
    "# convert sitk to numpy\n",
    "spacing3d = ref3d_sitk.GetSpacing()\n",
    "ref3d_np = sitk2np(ref3d_sitk) > 0\n",
    "pred3d_np = sitk2np(pred3d_sitk) > 0\n",
    "# check masks size and spacing\n",
    "ref3d_np.shape, pred3d_np.shape, spacing3d"
   ]
  },
  {
   "cell_type": "code",
   "execution_count": 8,
   "metadata": {},
   "outputs": [
    {
     "name": "stdout",
     "output_type": "stream",
     "text": [
      "{'HD_100': 15.107025591499548, 'HD_95': 15.0, 'MASD': 14.386058222743001, 'ASSD': 14.402367988908741, 'NSD_2.0': 0.0, 'BIoU_2.0': 0.0}\n"
     ]
    }
   ],
   "source": [
    "dist_metrics.set_input(ref=ref3d_np, pred=pred3d_np, spacing=spacing3d) # do not forget to set spacing\n",
    "# run calculations\n",
    "print({\n",
    "    \"HD_100\": dist_metrics.hd(),\n",
    "    f\"HD_{percentile}\": dist_metrics.hd(percentile=percentile),\n",
    "    \"MASD\": dist_metrics.masd(),\n",
    "    \"ASSD\": dist_metrics.assd(),\n",
    "    f\"NSD_{tau}\": dist_metrics.nsd(tau=tau),\n",
    "    f\"BIoU_{tau}\": dist_metrics.biou(tau=tau)\n",
    "})"
   ]
  },
  {
   "cell_type": "markdown",
   "metadata": {},
   "source": [
    "## Calculate metrics using `vtk` meshes"
   ]
  },
  {
   "cell_type": "code",
   "execution_count": 9,
   "metadata": {},
   "outputs": [
    {
     "name": "stdout",
     "output_type": "stream",
     "text": [
      "{'HD_100': 14.995325261927961, 'HD_95': 14.993501923926003, 'MASD': 14.983290885088735, 'ASSD': 14.983290885048657, 'NSD_2.0': 0.0, 'BIoU_2.0': 0.0}\n"
     ]
    }
   ],
   "source": [
    "# set spacing to arbitrary value (this is only needed for BIoU calculation, the low the better, but it prolongs the computation)\n",
    "dist_metrics.set_input(ref=ref3d_vtk, pred=pred3d_vtk, spacing=(0.8, 0.8, 0.8))\n",
    "# run calculations\n",
    "print({\n",
    "    \"HD_100\": dist_metrics.hd(),\n",
    "    f\"HD_{percentile}\": dist_metrics.hd(percentile=percentile),\n",
    "    \"MASD\": dist_metrics.masd(),\n",
    "    \"ASSD\": dist_metrics.assd(),\n",
    "    f\"NSD_{tau}\": dist_metrics.nsd(tau=tau),\n",
    "    f\"BIoU_{tau}\": dist_metrics.biou(tau=tau)\n",
    "})"
   ]
  },
  {
   "cell_type": "markdown",
   "metadata": {},
   "source": [
    "## Advanced usage: calculate metrics using combination of `SimpleITK.Image` masks and `vtk` meshes\n",
    "Please note that the `SimpleITK.Image` masks and `vtk` meshes must be in the same physical space (world coordinate system)."
   ]
  },
  {
   "cell_type": "code",
   "execution_count": 10,
   "metadata": {},
   "outputs": [
    {
     "name": "stdout",
     "output_type": "stream",
     "text": [
      "{'HD_100': 15.527478676132663, 'HD_95': 15.388662078144064, 'MASD': 14.714079126864853, 'ASSD': 14.63829332824707, 'NSD_2.0': 0.0, 'BIoU_2.0': 0.0}\n"
     ]
    }
   ],
   "source": [
    "# Calculate metrics using a combination of input data, a `SimpleITK.Image` mask and a `vtk` mesh. \n",
    "# Spacing is automatically inferred from the sitk.Image object.\n",
    "dist_metrics = DistanceMetrics()\n",
    "dist_metrics.set_input(ref=ref3d_sitk, pred=pred3d_vtk)\n",
    "# run calculations\n",
    "print({\n",
    "    \"HD_100\": dist_metrics.hd(),\n",
    "    f\"HD_{percentile}\": dist_metrics.hd(percentile=percentile),\n",
    "    \"MASD\": dist_metrics.masd(),\n",
    "    \"ASSD\": dist_metrics.assd(),\n",
    "    f\"NSD_{tau}\": dist_metrics.nsd(tau=tau),\n",
    "    f\"BIoU_{tau}\": dist_metrics.biou(tau=tau)\n",
    "})"
   ]
  },
  {
   "cell_type": "markdown",
   "metadata": {},
   "source": [
    "# 2D examples"
   ]
  },
  {
   "cell_type": "markdown",
   "metadata": {},
   "source": [
    "## Calculate metrics using `SimpleITK.Image` masks"
   ]
  },
  {
   "cell_type": "code",
   "execution_count": 11,
   "metadata": {},
   "outputs": [
    {
     "data": {
      "text/plain": [
       "((410, 410), (0.20000000298023224, 0.20000000298023224))"
      ]
     },
     "execution_count": 11,
     "metadata": {},
     "output_type": "execute_result"
    }
   ],
   "source": [
    "# print some metadata\n",
    "ref2d_sitk.GetSize(), ref2d_sitk.GetSpacing()"
   ]
  },
  {
   "cell_type": "code",
   "execution_count": 12,
   "metadata": {},
   "outputs": [
    {
     "name": "stdout",
     "output_type": "stream",
     "text": [
      "Background Label: \u0000\n",
      "Background Label: \u0000\n",
      "{'HD_100': 15.016326357908575, 'HD_95': 15.0, 'MASD': 14.879690888036235, 'ASSD': 14.88043697479464, 'NSD_2.0': 0.0, 'BIoU_2.0': 0.0}\n"
     ]
    }
   ],
   "source": [
    "dist_metrics.set_input(ref=ref2d_sitk, pred=pred2d_sitk)\n",
    "# run calculations\n",
    "print({\n",
    "    \"HD_100\": dist_metrics.hd(),\n",
    "    f\"HD_{percentile}\": dist_metrics.hd(percentile=percentile),\n",
    "    \"MASD\": dist_metrics.masd(),\n",
    "    \"ASSD\": dist_metrics.assd(),\n",
    "    f\"NSD_{tau}\": dist_metrics.nsd(tau=tau),\n",
    "    f\"BIoU_{tau}\": dist_metrics.biou(tau=tau)\n",
    "})"
   ]
  },
  {
   "cell_type": "markdown",
   "metadata": {},
   "source": [
    "## Calculate metrics using `numpy.ndarray` masks"
   ]
  },
  {
   "cell_type": "code",
   "execution_count": 13,
   "metadata": {},
   "outputs": [
    {
     "data": {
      "text/plain": [
       "((410, 410), (410, 410), (0.20000000298023224, 0.20000000298023224))"
      ]
     },
     "execution_count": 13,
     "metadata": {},
     "output_type": "execute_result"
    }
   ],
   "source": [
    "# convert sitk to numpy\n",
    "spacing2d = ref2d_sitk.GetSpacing()\n",
    "ref2d_np = sitk2np(ref2d_sitk) > 0\n",
    "pred2d_np = sitk2np(pred2d_sitk) > 0\n",
    "# check masks size and spacing\n",
    "ref2d_np.shape, pred2d_np.shape, spacing2d"
   ]
  },
  {
   "cell_type": "code",
   "execution_count": 14,
   "metadata": {},
   "outputs": [
    {
     "name": "stdout",
     "output_type": "stream",
     "text": [
      "Background Label: \u0000\n",
      "Background Label: \u0000\n",
      "{'HD_100': 15.016324843214866, 'HD_95': 15.0, 'MASD': 14.87969094327525, 'ASSD': 14.880437026676473, 'NSD_2.0': 0.0, 'BIoU_2.0': 0.0}\n"
     ]
    }
   ],
   "source": [
    "dist_metrics.set_input(ref=ref2d_np, pred=pred2d_np, spacing=spacing2d) # do not forget to set spacing\n",
    "# run calculations\n",
    "print({\n",
    "    \"HD_100\": dist_metrics.hd(),\n",
    "    f\"HD_{percentile}\": dist_metrics.hd(percentile=percentile),\n",
    "    \"MASD\": dist_metrics.masd(),\n",
    "    \"ASSD\": dist_metrics.assd(),\n",
    "    f\"NSD_{tau}\": dist_metrics.nsd(tau=tau),\n",
    "    f\"BIoU_{tau}\": dist_metrics.biou(tau=tau)\n",
    "})"
   ]
  },
  {
   "cell_type": "markdown",
   "metadata": {},
   "source": [
    "## Calculate metrics using `vtk` meshes"
   ]
  },
  {
   "cell_type": "code",
   "execution_count": 15,
   "metadata": {},
   "outputs": [
    {
     "name": "stdout",
     "output_type": "stream",
     "text": [
      "{'HD_100': 15.176998138427734, 'HD_95': 15.08072280883789, 'MASD': 14.761832561628275, 'ASSD': 14.769173669707602, 'NSD_2.0': 0.0, 'BIoU_2.0': 0.0}\n"
     ]
    }
   ],
   "source": [
    "# set spacing to arbitrary value (this is only needed for BIoU calculation, the low the better, but it prolongs the computation)\n",
    "dist_metrics.set_input(ref=ref2d_vtk, pred=pred2d_vtk, spacing=(0.5, 0.5))\n",
    "# run calculations\n",
    "print({\n",
    "    \"HD_100\": dist_metrics.hd(),\n",
    "    f\"HD_{percentile}\": dist_metrics.hd(percentile=percentile),\n",
    "    \"MASD\": dist_metrics.masd(),\n",
    "    \"ASSD\": dist_metrics.assd(),\n",
    "    f\"NSD_{tau}\": dist_metrics.nsd(tau=tau),\n",
    "    f\"BIoU_{tau}\": dist_metrics.biou(tau=tau)\n",
    "})"
   ]
  }
 ],
 "metadata": {
  "kernelspec": {
   "display_name": "SimpleElastix",
   "language": "python",
   "name": "python3"
  },
  "language_info": {
   "codemirror_mode": {
    "name": "ipython",
    "version": 3
   },
   "file_extension": ".py",
   "mimetype": "text/x-python",
   "name": "python",
   "nbconvert_exporter": "python",
   "pygments_lexer": "ipython3",
   "version": "3.9.18"
  }
 },
 "nbformat": 4,
 "nbformat_minor": 2
}
